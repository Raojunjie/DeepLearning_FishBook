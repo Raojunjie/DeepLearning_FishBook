{
 "cells": [
  {
   "cell_type": "code",
   "execution_count": 22,
   "id": "3858d39b-4932-4b09-9642-850cad2c4f80",
   "metadata": {},
   "outputs": [],
   "source": [
    "import numpy as np"
   ]
  },
  {
   "cell_type": "code",
   "execution_count": 23,
   "id": "84fd27bd-2f14-4cf0-acaa-e6cab8be2c7f",
   "metadata": {},
   "outputs": [],
   "source": [
    "# 感知机：多个输入->一个输出，通过设置权重来表示输入的重要性、设置偏置（阈值）表示激活的难易程度\n",
    "# 与门\n",
    "def andGate(x1, x2):\n",
    "    x = np.array([x1, x2])\n",
    "    w = np.array([0.5, 0.5])\n",
    "    b = -0.7\n",
    "    ret = np.sum(x*w) + b\n",
    "    if (ret <= 0.0):\n",
    "        return 0\n",
    "    else:\n",
    "        return 1"
   ]
  },
  {
   "cell_type": "code",
   "execution_count": 24,
   "id": "18aaef0c-6ca9-4375-b334-17598a1419b4",
   "metadata": {},
   "outputs": [
    {
     "name": "stdout",
     "output_type": "stream",
     "text": [
      "0\n",
      "0\n",
      "1\n"
     ]
    }
   ],
   "source": [
    "print(andGate(0, 0))\n",
    "print(andGate(0, 1))\n",
    "print(andGate(1, 1))"
   ]
  },
  {
   "cell_type": "code",
   "execution_count": 25,
   "id": "a4594146-ece5-4f9a-8ae9-fd07c773ca01",
   "metadata": {},
   "outputs": [
    {
     "name": "stdout",
     "output_type": "stream",
     "text": [
      "1\n",
      "1\n",
      "0\n"
     ]
    }
   ],
   "source": [
    "# 与非门\n",
    "def nandGate(x1, x2):\n",
    "    x = np.array([x1, x2])\n",
    "    w = np.array([-0.5, -0.5])\n",
    "    b = 0.7\n",
    "    ret = np.sum(x*w) + b\n",
    "    if (ret <= 0.0):\n",
    "        return 0\n",
    "    else:\n",
    "        return 1\n",
    "print(nandGate(0, 0))\n",
    "print(nandGate(0, 1))\n",
    "print(nandGate(1, 1))"
   ]
  },
  {
   "cell_type": "code",
   "execution_count": 26,
   "id": "905e8378-80ae-4f47-8990-4948a2f9bb0e",
   "metadata": {},
   "outputs": [
    {
     "name": "stdout",
     "output_type": "stream",
     "text": [
      "0\n",
      "1\n",
      "1\n"
     ]
    }
   ],
   "source": [
    "# 或门\n",
    "def orGate(x1, x2):\n",
    "    x = np.array([x1, x2])\n",
    "    w = np.array([0.5, 0.5])\n",
    "    b = -0.1\n",
    "    ret = np.sum(x*w) + b\n",
    "    if (ret <= 0.0):\n",
    "        return 0\n",
    "    else:\n",
    "        return 1\n",
    "print(orGate(0, 0))\n",
    "print(orGate(0, 1))\n",
    "print(orGate(1, 1))"
   ]
  },
  {
   "cell_type": "code",
   "execution_count": 27,
   "id": "dc5c595b-afd6-4fb7-9e7a-3300d99ea1be",
   "metadata": {},
   "outputs": [
    {
     "name": "stdout",
     "output_type": "stream",
     "text": [
      "0\n",
      "1\n",
      "0\n"
     ]
    }
   ],
   "source": [
    "# 与门、与非门、或门都是线性空间，可以使用多层来表示非线性空间，使用前三者表示异或门\n",
    "def xorGate(x1, x2):\n",
    "    s1 = nandGate(x1, x2)\n",
    "    s2 = orGate(x1, x2)\n",
    "    ret = andGate(s1, s2)\n",
    "    return ret\n",
    "\n",
    "print(xorGate(0, 0))\n",
    "print(xorGate(0, 1))\n",
    "print(xorGate(1, 1))"
   ]
  },
  {
   "cell_type": "code",
   "execution_count": null,
   "id": "c3290e69-f022-438a-9d24-a5d797231a82",
   "metadata": {},
   "outputs": [],
   "source": []
  }
 ],
 "metadata": {
  "kernelspec": {
   "display_name": "Python 3 (ipykernel)",
   "language": "python",
   "name": "python3"
  },
  "language_info": {
   "codemirror_mode": {
    "name": "ipython",
    "version": 3
   },
   "file_extension": ".py",
   "mimetype": "text/x-python",
   "name": "python",
   "nbconvert_exporter": "python",
   "pygments_lexer": "ipython3",
   "version": "3.11.7"
  }
 },
 "nbformat": 4,
 "nbformat_minor": 5
}
