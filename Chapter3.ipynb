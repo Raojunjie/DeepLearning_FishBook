{
 "cells": [
  {
   "cell_type": "code",
   "execution_count": null,
   "id": "e071a8e2-7ccd-4990-9ded-b0e042859f37",
   "metadata": {},
   "outputs": [],
   "source": [
    "# 激活函数：根据数值和阈值关系，筛选结果；\n",
    "# 激活函数是非线性函数，如果是线性，则不需要多层\n",
    "# 决定神经元是否激活，控制信息传递；在反向传播中，影响梯度下降速度\n",
    "# 常见的激活函数有：Sigmoid, ReLU"
   ]
  },
  {
   "cell_type": "code",
   "execution_count": null,
   "id": "fcd50004-0e87-49cb-9bde-86515137f9d8",
   "metadata": {},
   "outputs": [],
   "source": [
    "# 神经网络层与层之间采用矩阵的运算表示"
   ]
  },
  {
   "cell_type": "code",
   "execution_count": 3,
   "id": "e4786819-efb5-407c-9dff-b7a53ecb55bd",
   "metadata": {},
   "outputs": [
    {
     "name": "stdout",
     "output_type": "stream",
     "text": [
      "[[1 2]\n",
      " [3 4]]\n",
      "[[1 1]\n",
      " [1 1]]\n"
     ]
    }
   ],
   "source": [
    "import numpy as np\n",
    "\n",
    "A = np.array([[1,2],[3,4]])\n",
    "B = np.array([[1,1],[1,1]])\n",
    "print(A)\n",
    "print(B)"
   ]
  },
  {
   "cell_type": "code",
   "execution_count": 4,
   "id": "53fcc449-8d7b-4bda-97c0-ab6de37083ef",
   "metadata": {},
   "outputs": [
    {
     "name": "stdout",
     "output_type": "stream",
     "text": [
      "[[1 2]\n",
      " [3 4]]\n"
     ]
    }
   ],
   "source": [
    "C = A*B\n",
    "print(C)"
   ]
  },
  {
   "cell_type": "code",
   "execution_count": 5,
   "id": "83d9de07-ade0-496a-9b23-bd420f0415f9",
   "metadata": {},
   "outputs": [
    {
     "name": "stdout",
     "output_type": "stream",
     "text": [
      "[[3 3]\n",
      " [7 7]]\n"
     ]
    }
   ],
   "source": [
    "D = np.dot(A, B)\n",
    "print(D)"
   ]
  },
  {
   "cell_type": "code",
   "execution_count": null,
   "id": "66dd4e03-85e8-4475-8ad9-a864a823f39c",
   "metadata": {},
   "outputs": [],
   "source": []
  }
 ],
 "metadata": {
  "kernelspec": {
   "display_name": "Python 3 (ipykernel)",
   "language": "python",
   "name": "python3"
  },
  "language_info": {
   "codemirror_mode": {
    "name": "ipython",
    "version": 3
   },
   "file_extension": ".py",
   "mimetype": "text/x-python",
   "name": "python",
   "nbconvert_exporter": "python",
   "pygments_lexer": "ipython3",
   "version": "3.11.7"
  }
 },
 "nbformat": 4,
 "nbformat_minor": 5
}
